{
 "cells": [
  {
   "cell_type": "code",
   "execution_count": null,
   "metadata": {},
   "outputs": [],
   "source": [
    "from load_data import load_data\n",
    "import keras\n",
    "from keras import layers\n",
    "import tensorflow as tf\n",
    "import matplotlib.pyplot as plt\n",
    "import numpy as np"
   ]
  },
  {
   "cell_type": "markdown",
   "metadata": {},
   "source": [
    "# Load dataset\n",
    "Loads the RESISC45 dataset using the `load_data` function. \n",
    "\n",
    "The dataset must be downloaded and extracted manually into `.\\venv\\Lib\\site-packages\\tensorflow_datasets\\downloads\\manual\\`.\n",
    "\n",
    "The `\\downloads\\manual\\` directory does not exist by default, and must be created. Refer to the [tensorflow datasets docs](https://www.tensorflow.org/datasets/catalog/resisc45) for more information."
   ]
  },
  {
   "cell_type": "code",
   "execution_count": null,
   "metadata": {},
   "outputs": [],
   "source": [
    "package_path = r\"C:\\Users\\nedst\\Desktop\\synoptic-project-NedStickler\\.venv\\Lib\\site-packages\\tensorflow_datasets\"\n",
    "dataset, _ = load_data(package_path)"
   ]
  },
  {
   "cell_type": "markdown",
   "metadata": {},
   "source": [
    "# Define models\n",
    "Defines the generator and discriminator models."
   ]
  },
  {
   "cell_type": "code",
   "execution_count": null,
   "metadata": {},
   "outputs": [],
   "source": [
    "input_shape = (256, 256, 3)\n",
    "latent_dim = 128\n",
    "\n",
    "discriminator = keras.Sequential(\n",
    "    [\n",
    "        keras.Input(shape=input_shape),\n",
    "        layers.Conv2D(64, kernel_size=4, strides=2, padding=\"same\"),\n",
    "        layers.LeakyReLU(negative_slope=0.2),\n",
    "        layers.Conv2D(128, kernel_size=4, strides=2, padding=\"same\"),\n",
    "        layers.LeakyReLU(negative_slope=0.2),\n",
    "        layers.Conv2D(128, kernel_size=4, strides=2, padding=\"same\"),\n",
    "        layers.LeakyReLU(negative_slope=0.2),\n",
    "        layers.Flatten(),\n",
    "        layers.Dropout(0.2),\n",
    "        layers.Dense(1, activation=\"sigmoid\")\n",
    "    ],\n",
    "    name = \"discriminator\",\n",
    ")\n",
    "\n",
    "generator = keras.Sequential(\n",
    "    [\n",
    "        keras.Input(shape=(latent_dim,)),\n",
    "        layers.Dense(32 * 32 * 128),\n",
    "        layers.Reshape((32, 32, 128)),\n",
    "        layers.Conv2DTranspose(128, kernel_size=4, strides=2, padding=\"same\"),\n",
    "        layers.LeakyReLU(negative_slope=0.2),\n",
    "        layers.Conv2DTranspose(128, kernel_size=4, strides=2, padding=\"same\"),\n",
    "        layers.LeakyReLU(negative_slope=0.2),\n",
    "        layers.Conv2DTranspose(128, kernel_size=4, strides=2, padding=\"same\"),\n",
    "        layers.LeakyReLU(negative_slope=0.2),\n",
    "        layers.Conv2D(3, kernel_size=4, activation=\"sigmoid\", padding=\"same\")\n",
    "    ],\n",
    "    name = \"generator\"\n",
    ")"
   ]
  },
  {
   "cell_type": "markdown",
   "metadata": {},
   "source": [
    "# Define custom training cycle and train model\n",
    "Create a custom GAN class that inherits `keras.Model`. Overload the train step to train both the generator and discriminator models.\n",
    "\n",
    "Finally, train the model on a sample of the dataset (full dataset requires exceptional computing power)."
   ]
  },
  {
   "cell_type": "code",
   "execution_count": null,
   "metadata": {},
   "outputs": [],
   "source": [
    "class GAN(keras.Model):\n",
    "    def __init__(self, discriminator, generator, latent_dim):\n",
    "        super().__init__()\n",
    "        self.discriminator = discriminator\n",
    "        self.generator = generator\n",
    "        self.latent_dim = latent_dim\n",
    "        self.seed_generator = keras.random.SeedGenerator(1337)\n",
    "\n",
    "    def compile(self, d_optimiser, g_optimiser, loss_fn):\n",
    "        super().compile()\n",
    "        self.d_optimiser = d_optimiser\n",
    "        self.g_optimiser = g_optimiser\n",
    "        self.loss_fn = loss_fn\n",
    "        self.d_loss_metric = keras.metrics.Mean(name=\"d_loss\")\n",
    "        self.g_loss_metric = keras.metrics.Mean(name=\"g_loss\")\n",
    "    \n",
    "    @property\n",
    "    def metrics(self):\n",
    "        return [self.d_loss_metric, self.g_loss_metric]\n",
    "    \n",
    "    def train_step(self, inputs):\n",
    "        batch_size = keras.ops.shape(inputs)[0]\n",
    "        inputs /= 255\n",
    "\n",
    "        # Generate random vectors and set up labels, random noise?\n",
    "        random_latent_vectors = keras.random.normal(shape=(batch_size, self.latent_dim), seed=self.seed_generator)\n",
    "        generated_images = self.generator(random_latent_vectors)\n",
    "        combined_images = keras.ops.concatenate([generated_images, inputs], axis=0)\n",
    "        labels = keras.ops.concatenate([keras.ops.ones((batch_size, 1)), keras.ops.zeros((batch_size, 1))], axis=0)\n",
    "\n",
    "        # Train discriminator\n",
    "        with tf.GradientTape() as tape:\n",
    "            predictions = self.discriminator(combined_images)\n",
    "            d_loss = self.loss_fn(labels, predictions)\n",
    "        gradients = tape.gradient(d_loss, self.discriminator.trainable_weights)\n",
    "        self.d_optimiser.apply_gradients(zip(gradients, self.discriminator.trainable_weights))\n",
    "\n",
    "        random_latent_vectors = keras.random.normal(shape=(batch_size, self.latent_dim), seed=self.seed_generator)\n",
    "        misleading_labels = keras.ops.zeros((batch_size, 1))\n",
    "\n",
    "        # Train generator\n",
    "        with tf.GradientTape() as tape:\n",
    "            predictions = self.discriminator(self.generator(random_latent_vectors))\n",
    "            g_loss = self.loss_fn(misleading_labels, predictions)\n",
    "        gradients = tape.gradient(g_loss, self.generator.trainable_weights)\n",
    "        self.g_optimiser.apply_gradients(zip(gradients, self.generator.trainable_weights))\n",
    "\n",
    "        # Update metrics\n",
    "        self.d_loss_metric.update_state(d_loss)\n",
    "        self.g_loss_metric.update_state(g_loss)\n",
    "\n",
    "        return {\"d_loss\": self.d_loss_metric.result(),\"g_loss\": self.g_loss_metric.result()}\n",
    "\n",
    "epochs = 10\n",
    "gan = GAN(discriminator=discriminator, generator=generator, latent_dim=latent_dim)\n",
    "gan.compile(d_optimiser=keras.optimizers.Adam(learning_rate=0.0001), g_optimiser=keras.optimizers.Adam(learning_rate=0.0001), loss_fn=keras.losses.BinaryCrossentropy())\n",
    "sample_dataset = dataset[:512, :, :, :]\n",
    "gan.fit(sample_dataset, epochs=epochs, steps_per_epoch=16)"
   ]
  },
  {
   "cell_type": "markdown",
   "metadata": {},
   "source": [
    "# View trained model outputs\n",
    "Pass random vectors to the trained generator and view some outputs."
   ]
  },
  {
   "cell_type": "code",
   "execution_count": null,
   "metadata": {},
   "outputs": [],
   "source": [
    "num_images = 25\n",
    "random_latent_vectors = keras.random.normal(shape=(num_images, 128), seed=keras.random.SeedGenerator(42))\n",
    "generated_images = gan.generator(random_latent_vectors)\n",
    "processed_images = generated_images.numpy()\n",
    "normalised_images = (processed_images * 255).astype(np.uint8)\n",
    "\n",
    "for i in range(num_images):\n",
    "    plt.imshow(processed_images[i])\n",
    "    plt.show()"
   ]
  }
 ],
 "metadata": {
  "kernelspec": {
   "display_name": ".venv",
   "language": "python",
   "name": "python3"
  },
  "language_info": {
   "codemirror_mode": {
    "name": "ipython",
    "version": 3
   },
   "file_extension": ".py",
   "mimetype": "text/x-python",
   "name": "python",
   "nbconvert_exporter": "python",
   "pygments_lexer": "ipython3",
   "version": "3.10.9"
  }
 },
 "nbformat": 4,
 "nbformat_minor": 2
}
