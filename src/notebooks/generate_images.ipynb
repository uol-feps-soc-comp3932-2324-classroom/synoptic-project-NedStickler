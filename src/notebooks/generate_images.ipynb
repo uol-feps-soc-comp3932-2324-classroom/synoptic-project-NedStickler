{
 "cells": [
  {
   "cell_type": "code",
   "execution_count": null,
   "metadata": {},
   "outputs": [],
   "source": [
    "import matplotlib.pyplot as plt\n",
    "from matplotlib import rc\n",
    "import numpy as np\n",
    "import os\n",
    "os.chdir(\"..\")\n",
    "from loaders import get_label_mapping\n",
    "from visualise import BlurAndResize"
   ]
  },
  {
   "cell_type": "code",
   "execution_count": null,
   "metadata": {},
   "outputs": [],
   "source": [
    "datasets_folder = r\"C:\\Users\\nedst\\Desktop\\synoptic-project-NedStickler\\datasets\"\n",
    "X_train = np.load(datasets_folder + r\"\\resisc45_train.npy\")\n",
    "y_train = np.load(datasets_folder + r\"\\resisc45_train_labels.npy\")\n",
    "mapping = get_label_mapping()\n",
    "\n",
    "parmas = {\n",
    "    \"text.usetex\" : True,\n",
    "    \"font.family\" : \"serif\",\n",
    "    \"font.serif\" : [\"Computer Modern Serif\"],\n",
    "    \"font.size\" : 14\n",
    "}\n",
    "plt.rcParams.update(parmas)"
   ]
  },
  {
   "cell_type": "code",
   "execution_count": null,
   "metadata": {},
   "outputs": [],
   "source": [
    "fig, axs = plt.subplots(2, 4, layout=\"constrained\")\n",
    "fig.set_size_inches((10, 6))\n",
    "\n",
    "count = 10\n",
    "for i in range(2):\n",
    "    for j in range(4):\n",
    "        title = mapping.get(y_train[count]).replace(\"_\", \" \")\n",
    "        title = title[0].upper() + title[1:]\n",
    "        axs[i, j].set_title(title)\n",
    "        axs[i, j].imshow(X_train[count])\n",
    "        axs[i, j].set_xticks([])\n",
    "        axs[i, j].set_yticks([])\n",
    "        count += 1\n",
    "\n",
    "plt.savefig(r\"C:\\Users\\nedst\\Desktop\\synoptic-project-NedStickler\\report\\assets\\resisc45_example.png\", dpi=100)"
   ]
  },
  {
   "cell_type": "code",
   "execution_count": null,
   "metadata": {},
   "outputs": [],
   "source": [
    "import glob\n",
    "import keras\n",
    "\n",
    "generator_paths = [path for path in glob.glob(r\"C:\\Users\\nedst\\Desktop\\synoptic-project-NedStickler\\generators\\*\\*-lr1e-05-*\\generator.keras\")]\n",
    "generator_dict = {path.split(\"\\\\\")[6]: keras.saving.load_model(path) for path in generator_paths}\n",
    "\n",
    "name_map = {\n",
    "    \"srgan-densenet201\": \"DenseNet201\",\n",
    "    \"srgan-efficientnetv2l\": \"EfficientNetV2L\",\n",
    "    \"srgan-inceptionresnetv2\": \"InceptionResNetV2\",\n",
    "    \"srgan-inceptionv3\": \"InceptionV3\",\n",
    "    \"srgan-mobilenetv2\": \"MobileNetV2\",\n",
    "    \"srgan-nasnetlarge\": \"NASNetLarge\",\n",
    "    \"srgan-resnet152v2\": \"ResNet152V2\",\n",
    "    \"srgan-vgg22\": \"VGG22\",\n",
    "    \"srgan-vgg54\": \"VGG54\",\n",
    "    \"srgan-xception\": \"Xception\"\n",
    "}\n",
    "\n",
    "for key in name_map.keys():\n",
    "    generator_dict[name_map[key]] = generator_dict.pop(key)"
   ]
  },
  {
   "cell_type": "code",
   "execution_count": null,
   "metadata": {},
   "outputs": [],
   "source": [
    "X_test = np.load(r\"C:\\Users\\nedst\\Desktop\\synoptic-project-NedStickler\\datasets\\resisc45_test.npy\")\n",
    "index = 9\n",
    "hr_img = X_test[index:index+1]\n",
    "lr_img = BlurAndResize(4)(hr_img)\n",
    "\n",
    "srresnet = keras.saving.load_model(r\"C:\\Users\\nedst\\Desktop\\synoptic-project-NedStickler\\generators\\srresnet-mse\\srresnet-mse-e1588-resisc45.keras\")\n",
    "srresnet_sr = srresnet(lr_img).numpy().astype(np.uint8)\n",
    "\n",
    "fig, axs = plt.subplots(3, 4, layout=\"constrained\")\n",
    "fig.set_size_inches((10, 9))\n",
    "\n",
    "axs[0, 0].imshow(hr_img[0])\n",
    "axs[0, 0].set_title(\"High resolution\")\n",
    "axs[0, 0].set_yticks([])\n",
    "axs[0, 0].set_xticks([])\n",
    "\n",
    "axs[0, 1].imshow(srresnet_sr[0])\n",
    "axs[0, 1].set_title(\"SRResNet\")\n",
    "axs[0, 1].set_yticks([])\n",
    "axs[0, 1].set_xticks([])\n",
    "\n",
    "row = 0\n",
    "for i, model in enumerate(generator_dict.keys()):\n",
    "    sr_img = generator_dict[model](lr_img).numpy().astype(np.uint8)[0]\n",
    "    if (i + 2) % 4 == 0:\n",
    "        row += 1\n",
    "    axs[row, (i + 2) % 4].imshow(sr_img)\n",
    "    axs[row, (i + 2) % 4].set_title(model)\n",
    "    axs[row, (i + 2) % 4].set_yticks([])\n",
    "    axs[row, (i + 2) % 4].set_xticks([])\n",
    "\n",
    "plt.savefig(r\"C:\\Users\\nedst\\Desktop\\synoptic-project-NedStickler\\report\\assets\\model_comparison.png\", dpi=100)"
   ]
  },
  {
   "cell_type": "code",
   "execution_count": null,
   "metadata": {},
   "outputs": [],
   "source": [
    "models = [\"VGG19\", \"Xception\", \"ResNet152V2\", \"InceptionV3\", \"InceptionResNetV2\", \"MobileNetV2\", \"DenseNet201\", \"NASNetLarge\", \"EfficientNetV2L\"]\n",
    "classifier_accuracies = [0.713, 0.79, 0.772, 0.778, 0.803, 0.713, 0.773, 0.825, 0.857]\n",
    "ssim = [0.8878, 0.8934, 0.8916, 0.8973, 0.9018, 0.8928, 0.9045, 0.8930, 0.8958]\n",
    "psnr = [22.85, 23.13, 22.9, 23.27, 23.39, 21.78, 23.47, 23.03, 22.54]"
   ]
  },
  {
   "cell_type": "code",
   "execution_count": null,
   "metadata": {},
   "outputs": [],
   "source": [
    "plt.scatter(classifier_accuracies, ssim, c=\"black\", marker=\".\")\n",
    "plt.plot(np.unique(classifier_accuracies), np.poly1d(np.polyfit(classifier_accuracies, ssim, 1))(np.unique(classifier_accuracies)), c=\"black\", linestyle=\"--\", linewidth=1)\n",
    "plt.ylabel(\"SSIM\")\n",
    "plt.xlabel(\"Classifer accuracy\")\n",
    "for i, label in enumerate(models):\n",
    "    if label == \"EfficientNetV2L\":\n",
    "        xytext = (-140, 0)\n",
    "    else:\n",
    "        xytext = (10, 0)\n",
    "    plt.annotate(label, (classifier_accuracies[i], ssim[i]), va=\"center\", textcoords=\"offset pixels\", xytext=xytext)\n",
    "plt.savefig(r\"C:\\Users\\nedst\\Desktop\\synoptic-project-NedStickler\\report\\assets\\ssim_accuracy_trend.png\", dpi=100, bbox_inches=\"tight\")\n",
    "plt.show()\n",
    "\n",
    "plt.scatter(classifier_accuracies, psnr, c=\"black\", marker=\".\")\n",
    "plt.plot(np.unique(classifier_accuracies), np.poly1d(np.polyfit(classifier_accuracies, psnr, 1))(np.unique(classifier_accuracies)), c=\"black\", linestyle=\"--\", linewidth=1)\n",
    "plt.ylabel(\"PSNR\")\n",
    "plt.xlabel(\"Classifer accuracy\")\n",
    "for i, label in enumerate(models):\n",
    "    if label == \"EfficientNetV2L\":\n",
    "        xytext = (-140, 0)\n",
    "    else:\n",
    "        xytext = (10, 0)\n",
    "    plt.annotate(label, (classifier_accuracies[i], psnr[i]), va=\"center\", textcoords=\"offset pixels\", xytext=xytext)\n",
    "plt.savefig(r\"C:\\Users\\nedst\\Desktop\\synoptic-project-NedStickler\\report\\assets\\psnr_accuracy_trend.png\", dpi=100, bbox_inches=\"tight\")\n",
    "plt.show()"
   ]
  }
 ],
 "metadata": {
  "kernelspec": {
   "display_name": ".venv",
   "language": "python",
   "name": "python3"
  },
  "language_info": {
   "codemirror_mode": {
    "name": "ipython",
    "version": 3
   },
   "file_extension": ".py",
   "mimetype": "text/x-python",
   "name": "python",
   "nbconvert_exporter": "python",
   "pygments_lexer": "ipython3",
   "version": "3.10.4"
  }
 },
 "nbformat": 4,
 "nbformat_minor": 2
}
