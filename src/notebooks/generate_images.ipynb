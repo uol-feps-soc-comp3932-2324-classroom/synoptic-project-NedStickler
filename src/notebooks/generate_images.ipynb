{
 "cells": [
  {
   "cell_type": "code",
   "execution_count": null,
   "metadata": {},
   "outputs": [],
   "source": [
    "import matplotlib.pyplot as plt\n",
    "from matplotlib import rc\n",
    "import numpy as np\n",
    "import os\n",
    "os.chdir(\"..\")\n",
    "from loaders import get_label_mapping"
   ]
  },
  {
   "cell_type": "code",
   "execution_count": null,
   "metadata": {},
   "outputs": [],
   "source": [
    "datasets_folder = r\"C:\\Users\\nedst\\Desktop\\synoptic-project-NedStickler\\datasets\"\n",
    "X_train = np.load(datasets_folder + r\"\\resisc45_train.npy\")\n",
    "y_train = np.load(datasets_folder + r\"\\resisc45_train_labels.npy\")\n",
    "mapping = get_label_mapping()\n",
    "\n",
    "parmas = {\n",
    "    \"text.usetex\" : True,\n",
    "    \"font.family\" : \"serif\",\n",
    "    \"font.serif\" : [\"Computer Modern Serif\"],\n",
    "    \"font.size\" : 14\n",
    "}\n",
    "plt.rcParams.update(parmas)"
   ]
  },
  {
   "cell_type": "code",
   "execution_count": null,
   "metadata": {},
   "outputs": [],
   "source": [
    "fig, axs = plt.subplots(2, 4, layout=\"constrained\")\n",
    "fig.set_size_inches((10, 6))\n",
    "\n",
    "count = 10\n",
    "for i in range(2):\n",
    "    for j in range(4):\n",
    "        title = mapping.get(y_train[count]).replace(\"_\", \" \")\n",
    "        title = title[0].upper() + title[1:]\n",
    "        axs[i, j].set_title(title)\n",
    "        axs[i, j].imshow(X_train[count])\n",
    "        axs[i, j].set_xticks([])\n",
    "        axs[i, j].set_yticks([])\n",
    "        count += 1\n",
    "\n",
    "plt.savefig(r\"C:\\Users\\nedst\\Desktop\\synoptic-project-NedStickler\\report\\assets\\resisc45_example.png\", dpi=100)"
   ]
  }
 ],
 "metadata": {
  "kernelspec": {
   "display_name": ".venv",
   "language": "python",
   "name": "python3"
  },
  "language_info": {
   "codemirror_mode": {
    "name": "ipython",
    "version": 3
   },
   "file_extension": ".py",
   "mimetype": "text/x-python",
   "name": "python",
   "nbconvert_exporter": "python",
   "pygments_lexer": "ipython3",
   "version": "3.10.9"
  }
 },
 "nbformat": 4,
 "nbformat_minor": 2
}
