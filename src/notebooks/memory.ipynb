{
 "cells": [
  {
   "cell_type": "code",
   "execution_count": 25,
   "metadata": {},
   "outputs": [],
   "source": [
    "import os\n",
    "os.chdir(\"..\")\n",
    "from loaders import load_resisc45\n",
    "from models import CropAndResize, SRResNet, SRGAN\n",
    "import numpy as np\n",
    "import keras\n",
    "from keras.layers import RandomCrop, Resizing, DepthwiseConv2D"
   ]
  },
  {
   "cell_type": "code",
   "execution_count": 26,
   "metadata": {},
   "outputs": [],
   "source": [
    "dataset, labels = load_resisc45(r\"C:\\Users\\nedst\\Desktop\\synoptic-project-NedStickler\\.venv\\Lib\\site-packages\\tensorflow_datasets\")\n",
    "batch = dataset[:32]"
   ]
  },
  {
   "cell_type": "code",
   "execution_count": null,
   "metadata": {},
   "outputs": [],
   "source": [
    "# https://stackoverflow.com/questions/55643675/how-do-i-implement-gaussian-blurring-layer-in-keras#:~:text=%23%20somewhere%20in%20your%20model%20you,of%20this%20layer%20%23%20the%20rest\n",
    "# https://stackoverflow.com/questions/17190649/how-to-obtain-a-gaussian-filter-in-python/17201686#17201686"
   ]
  },
  {
   "cell_type": "code",
   "execution_count": 30,
   "metadata": {},
   "outputs": [],
   "source": []
  },
  {
   "cell_type": "code",
   "execution_count": 62,
   "metadata": {},
   "outputs": [],
   "source": [
    "from keras.layers import DepthwiseConv2D\n",
    "\n",
    "class GaussianBlur(DepthwiseConv2D):\n",
    "    def __init__(self, kernel_size):\n",
    "        super().__init__(kernel_size)\n",
    "\n",
    "    def _matlab_style_gauss2D(self, shape=(3,3), sigma=0.5):\n",
    "        \"\"\"\n",
    "        2D gaussian mask - should give the same result as MATLAB's\n",
    "        fspecial('gaussian',[shape],[sigma])\n",
    "        \"\"\"\n",
    "        m,n = [(ss-1.)/2. for ss in shape]\n",
    "        y,x = np.ogrid[-m:m+1,-n:n+1]\n",
    "        h = np.exp( -(x*x + y*y) / (2.*sigma*sigma) )\n",
    "        h[ h < np.finfo(h.dtype).eps*h.max() ] = 0\n",
    "        sumh = h.sum()\n",
    "        if sumh != 0:\n",
    "            h /= sumh\n",
    "        return h\n",
    "    \n",
    "    def build(self, input_size):\n",
    "        super().build(input_size)\n",
    "        gaussian_kernel = self._matlab_style_gauss2D()\n",
    "        kernel_weights = np.expand_dims(gaussian_kernel, axis=-1)\n",
    "        kernel_weights = np.repeat(kernel_weights, 3, axis=-1) # apply the same filter on all the input channels\n",
    "        kernel_weights = np.expand_dims(kernel_weights, axis=-1)\n",
    "        self.depthwise_conv.set_weights([kernel_weights])\n",
    "        self.depthwise_conv.trainable = False"
   ]
  },
  {
   "cell_type": "code",
   "execution_count": 64,
   "metadata": {},
   "outputs": [
    {
     "ename": "AttributeError",
     "evalue": "'GaussianBlur' object has no attribute 'depthwise_conv'",
     "output_type": "error",
     "traceback": [
      "\u001b[1;31m---------------------------------------------------------------------------\u001b[0m",
      "\u001b[1;31mAttributeError\u001b[0m                            Traceback (most recent call last)",
      "Cell \u001b[1;32mIn[64], line 1\u001b[0m\n\u001b[1;32m----> 1\u001b[0m \u001b[43mGaussianBlur\u001b[49m\u001b[43m(\u001b[49m\u001b[38;5;241;43m3\u001b[39;49m\u001b[43m)\u001b[49m\u001b[43m(\u001b[49m\u001b[43mbatch\u001b[49m\u001b[43m)\u001b[49m\n",
      "File \u001b[1;32mc:\\Users\\nedst\\Desktop\\synoptic-project-NedStickler\\.venv\\lib\\site-packages\\keras\\src\\utils\\traceback_utils.py:123\u001b[0m, in \u001b[0;36mfilter_traceback.<locals>.error_handler\u001b[1;34m(*args, **kwargs)\u001b[0m\n\u001b[0;32m    120\u001b[0m     filtered_tb \u001b[38;5;241m=\u001b[39m _process_traceback_frames(e\u001b[38;5;241m.\u001b[39m__traceback__)\n\u001b[0;32m    121\u001b[0m     \u001b[38;5;66;03m# To get the full stack trace, call:\u001b[39;00m\n\u001b[0;32m    122\u001b[0m     \u001b[38;5;66;03m# `keras.config.disable_traceback_filtering()`\u001b[39;00m\n\u001b[1;32m--> 123\u001b[0m     \u001b[38;5;28;01mraise\u001b[39;00m e\u001b[38;5;241m.\u001b[39mwith_traceback(filtered_tb) \u001b[38;5;28;01mfrom\u001b[39;00m \u001b[38;5;28;01mNone\u001b[39;00m\n\u001b[0;32m    124\u001b[0m \u001b[38;5;28;01mfinally\u001b[39;00m:\n\u001b[0;32m    125\u001b[0m     \u001b[38;5;28;01mdel\u001b[39;00m filtered_tb\n",
      "Cell \u001b[1;32mIn[62], line 27\u001b[0m, in \u001b[0;36mGaussianBlur.build\u001b[1;34m(self, input_size)\u001b[0m\n\u001b[0;32m     25\u001b[0m kernel_weights \u001b[38;5;241m=\u001b[39m np\u001b[38;5;241m.\u001b[39mrepeat(kernel_weights, \u001b[38;5;241m3\u001b[39m, axis\u001b[38;5;241m=\u001b[39m\u001b[38;5;241m-\u001b[39m\u001b[38;5;241m1\u001b[39m) \u001b[38;5;66;03m# apply the same filter on all the input channels\u001b[39;00m\n\u001b[0;32m     26\u001b[0m kernel_weights \u001b[38;5;241m=\u001b[39m np\u001b[38;5;241m.\u001b[39mexpand_dims(kernel_weights, axis\u001b[38;5;241m=\u001b[39m\u001b[38;5;241m-\u001b[39m\u001b[38;5;241m1\u001b[39m)\n\u001b[1;32m---> 27\u001b[0m \u001b[38;5;28;43mself\u001b[39;49m\u001b[38;5;241;43m.\u001b[39;49m\u001b[43mdepthwise_conv\u001b[49m\u001b[38;5;241m.\u001b[39mset_weights([kernel_weights])\n\u001b[0;32m     28\u001b[0m \u001b[38;5;28mself\u001b[39m\u001b[38;5;241m.\u001b[39mdepthwise_conv\u001b[38;5;241m.\u001b[39mtrainable \u001b[38;5;241m=\u001b[39m \u001b[38;5;28;01mFalse\u001b[39;00m\n",
      "\u001b[1;31mAttributeError\u001b[0m: 'GaussianBlur' object has no attribute 'depthwise_conv'"
     ]
    }
   ],
   "source": [
    "GaussianBlur(3)(batch)"
   ]
  },
  {
   "cell_type": "code",
   "execution_count": 69,
   "metadata": {},
   "outputs": [],
   "source": [
    "class CropAndResize(keras.Model):\n",
    "    def __init__(self, downsample_factor):\n",
    "        super().__init__()\n",
    "        self.downsample_factor = downsample_factor\n",
    "        self.random_crop = RandomCrop(96, 96)\n",
    "        self.gaussian_blur = DepthwiseConv2D(3, padding=\"same\", use_bias=False)\n",
    "        self.gaussian_blur.build()\n",
    "        self.resize = Resizing(96 // downsample_factor, 96 // downsample_factor, interpolation=\"bicubic\")\n",
    "\n",
    "    def _matlab_style_gauss2D(self, shape=(3,3), sigma=0.5):\n",
    "        \"\"\"\n",
    "        2D gaussian mask - should give the same result as MATLAB's\n",
    "        fspecial('gaussian',[shape],[sigma])\n",
    "        \"\"\"\n",
    "        m,n = [(ss-1.)/2. for ss in shape]\n",
    "        y,x = np.ogrid[-m:m+1,-n:n+1]\n",
    "        h = np.exp( -(x*x + y*y) / (2.*sigma*sigma) )\n",
    "        h[ h < np.finfo(h.dtype).eps*h.max() ] = 0\n",
    "        sumh = h.sum()\n",
    "        if sumh != 0:\n",
    "            h /= sumh\n",
    "        return h\n",
    "    \n",
    "    def get_config(self):\n",
    "        return {\"downsample_factor\": self.downsample_factor}\n",
    "    \n",
    "    def call(self, inputs):\n",
    "        # hr_patch = self.random_crop(inputs)\n",
    "        # blurred_hr_patch = self.gaussian_blur(hr_patch)\n",
    "        # lr_patch = self.resize(blurred_hr_patch)\n",
    "        # return lr_patch, hr_patch\n",
    "        gaussian_kernel = self._matlab_style_gauss2D()\n",
    "        kernel_weights = np.expand_dims(gaussian_kernel, axis=-1)\n",
    "        kernel_weights = np.repeat(kernel_weights, 3, axis=-1) # apply the same filter on all the input channels\n",
    "        kernel_weights = np.expand_dims(kernel_weights, axis=-1)\n",
    "        self.gaussian_blur.set_weights([kernel_weights])\n",
    "        self.gaussian_blur.trainable = False\n",
    "        \n",
    "        return self.gaussian_blur(inputs)"
   ]
  },
  {
   "cell_type": "code",
   "execution_count": 71,
   "metadata": {},
   "outputs": [
    {
     "data": {
      "text/plain": [
       "[]"
      ]
     },
     "execution_count": 71,
     "metadata": {},
     "output_type": "execute_result"
    }
   ],
   "source": [
    "cr = CropAndResize(4)\n",
    "cr.gaussian_blur.get_weights()"
   ]
  }
 ],
 "metadata": {
  "kernelspec": {
   "display_name": ".venv",
   "language": "python",
   "name": "python3"
  },
  "language_info": {
   "codemirror_mode": {
    "name": "ipython",
    "version": 3
   },
   "file_extension": ".py",
   "mimetype": "text/x-python",
   "name": "python",
   "nbconvert_exporter": "python",
   "pygments_lexer": "ipython3",
   "version": "3.10.4"
  }
 },
 "nbformat": 4,
 "nbformat_minor": 2
}
